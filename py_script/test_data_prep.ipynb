{
 "cells": [
  {
   "cell_type": "code",
   "execution_count": 10,
   "metadata": {},
   "outputs": [],
   "source": [
    "import pandas as pd\n",
    "import glob\n",
    "import numpy as np\n",
    "import random\n",
    "\n",
    "baddata = pd.read_csv(\"../baddata/alldata.csv\")\n",
    "gooddata = pd.read_csv(\"../baddata/gooddata.csv\")\n",
    "result = (baddata,gooddata)\n",
    "test_data = pd.concat(result)\n",
    "dropcolumns = [\n",
    "    \"Unnamed: 0\",\n",
    "    \"Unnamed: 0.1\",\n",
    "    \"sno\"\n",
    "]\n",
    "test_data.drop(dropcolumns,axis=1,inplace =True)\n",
    "test_data.to_csv('../test_data.csv')"
   ]
  }
 ],
 "metadata": {
  "kernelspec": {
   "display_name": "Python 3",
   "language": "python",
   "name": "python3"
  },
  "language_info": {
   "codemirror_mode": {
    "name": "ipython",
    "version": 3
   },
   "file_extension": ".py",
   "mimetype": "text/x-python",
   "name": "python",
   "nbconvert_exporter": "python",
   "pygments_lexer": "ipython3",
   "version": "3.11.0"
  },
  "orig_nbformat": 4,
  "vscode": {
   "interpreter": {
    "hash": "c47ac78591731e064fc303bafce254c74216a7e4eca067feb16d8a0a9fb54b49"
   }
  }
 },
 "nbformat": 4,
 "nbformat_minor": 2
}
